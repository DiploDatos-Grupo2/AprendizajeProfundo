{
 "cells": [
  {
   "cell_type": "code",
   "execution_count": 6,
   "id": "5d91e508-358c-4e34-a351-50efebd40122",
   "metadata": {},
   "outputs": [],
   "source": [
    "import pandas as pd"
   ]
  },
  {
   "cell_type": "code",
   "execution_count": 4,
   "id": "b521cd99-5dc8-471d-a327-2feec1835ddf",
   "metadata": {},
   "outputs": [
    {
     "name": "stdout",
     "output_type": "stream",
     "text": [
      "nvcc: NVIDIA (R) Cuda compiler driver\n",
      "Copyright (c) 2005-2019 NVIDIA Corporation\n",
      "Built on Fri_Feb__8_19:08:17_PST_2019\n",
      "Cuda compilation tools, release 10.1, V10.1.105\n"
     ]
    }
   ],
   "source": [
    "!nvcc --version"
   ]
  },
  {
   "cell_type": "code",
   "execution_count": 10,
   "id": "9a29b72e-3dbc-4676-babb-4a2d88c6370c",
   "metadata": {},
   "outputs": [],
   "source": [
    "data_train = pd.read_json('./data/meli-challenge-2019/spanish.train.jsonl.gz', lines=True)\n",
    "data_test = pd.read_json('./data/meli-challenge-2019/spanish.test.jsonl.gz', lines=True)\n",
    "data_valid = pd.read_json('./data/meli-challenge-2019/spanish.validation.jsonl.gz', lines=True)"
   ]
  },
  {
   "cell_type": "code",
   "execution_count": 24,
   "id": "37ad2540-6415-4934-a956-f8405d62e1be",
   "metadata": {},
   "outputs": [
    {
     "name": "stdout",
     "output_type": "stream",
     "text": [
      "<class 'pandas.core.frame.DataFrame'>\n",
      "RangeIndex: 4895280 entries, 0 to 4895279\n",
      "Data columns (total 10 columns):\n",
      " #   Column           Dtype \n",
      "---  ------           ----- \n",
      " 0   language         object\n",
      " 1   label_quality    object\n",
      " 2   title            object\n",
      " 3   category         object\n",
      " 4   split            object\n",
      " 5   tokenized_title  object\n",
      " 6   data             object\n",
      " 7   target           int64 \n",
      " 8   n_labels         int64 \n",
      " 9   size             int64 \n",
      "dtypes: int64(3), object(7)\n",
      "memory usage: 373.5+ MB\n"
     ]
    }
   ],
   "source": [
    "data_train.info()"
   ]
  },
  {
   "cell_type": "code",
   "execution_count": 25,
   "id": "8039a97f-a91a-4af4-b7c8-23b45bc4eae0",
   "metadata": {},
   "outputs": [
    {
     "data": {
      "text/plain": [
       "(4895280, 10)"
      ]
     },
     "execution_count": 25,
     "metadata": {},
     "output_type": "execute_result"
    }
   ],
   "source": [
    "data_train.shape"
   ]
  },
  {
   "cell_type": "code",
   "execution_count": 13,
   "id": "1beb417e-1379-4f6f-8372-2535052656ce",
   "metadata": {},
   "outputs": [
    {
     "data": {
      "text/plain": [
       "(63680, 10)"
      ]
     },
     "execution_count": 13,
     "metadata": {},
     "output_type": "execute_result"
    }
   ],
   "source": [
    "data_test.shape"
   ]
  },
  {
   "cell_type": "code",
   "execution_count": 14,
   "id": "7fc164e6-f61c-4a39-a147-a5fb12dabe4c",
   "metadata": {},
   "outputs": [
    {
     "data": {
      "text/plain": [
       "(1223820, 10)"
      ]
     },
     "execution_count": 14,
     "metadata": {},
     "output_type": "execute_result"
    }
   ],
   "source": [
    "data_valid.shape"
   ]
  },
  {
   "cell_type": "code",
   "execution_count": 15,
   "id": "839c38ee-0e70-450c-a150-b9e250b896be",
   "metadata": {},
   "outputs": [
    {
     "data": {
      "text/html": [
       "<div>\n",
       "<style scoped>\n",
       "    .dataframe tbody tr th:only-of-type {\n",
       "        vertical-align: middle;\n",
       "    }\n",
       "\n",
       "    .dataframe tbody tr th {\n",
       "        vertical-align: top;\n",
       "    }\n",
       "\n",
       "    .dataframe thead th {\n",
       "        text-align: right;\n",
       "    }\n",
       "</style>\n",
       "<table border=\"1\" class=\"dataframe\">\n",
       "  <thead>\n",
       "    <tr style=\"text-align: right;\">\n",
       "      <th></th>\n",
       "      <th>language</th>\n",
       "      <th>label_quality</th>\n",
       "      <th>title</th>\n",
       "      <th>category</th>\n",
       "      <th>split</th>\n",
       "      <th>tokenized_title</th>\n",
       "      <th>data</th>\n",
       "      <th>target</th>\n",
       "      <th>n_labels</th>\n",
       "      <th>size</th>\n",
       "    </tr>\n",
       "  </thead>\n",
       "  <tbody>\n",
       "    <tr>\n",
       "      <th>4124160</th>\n",
       "      <td>spanish</td>\n",
       "      <td>unreliable</td>\n",
       "      <td>Red Usb Tp-link Usb Wireles Tl-wn722n Wi-fi Tl...</td>\n",
       "      <td>NETWORK_CARDS</td>\n",
       "      <td>train</td>\n",
       "      <td>[red, usb, link, usb, wireles, wnn, tlinfo]</td>\n",
       "      <td>[749, 47, 479, 47, 21274, 10579, 23569]</td>\n",
       "      <td>402</td>\n",
       "      <td>632</td>\n",
       "      <td>4895280</td>\n",
       "    </tr>\n",
       "    <tr>\n",
       "      <th>2703777</th>\n",
       "      <td>spanish</td>\n",
       "      <td>unreliable</td>\n",
       "      <td>Manubrio Saltplus Hq (4 Pzas)</td>\n",
       "      <td>BICYCLE_HANDLEBARS</td>\n",
       "      <td>train</td>\n",
       "      <td>[manubrio, saltplus, pzas]</td>\n",
       "      <td>[5002, 1, 8865]</td>\n",
       "      <td>621</td>\n",
       "      <td>632</td>\n",
       "      <td>4895280</td>\n",
       "    </tr>\n",
       "  </tbody>\n",
       "</table>\n",
       "</div>"
      ],
      "text/plain": [
       "        language label_quality  \\\n",
       "4124160  spanish    unreliable   \n",
       "2703777  spanish    unreliable   \n",
       "\n",
       "                                                     title  \\\n",
       "4124160  Red Usb Tp-link Usb Wireles Tl-wn722n Wi-fi Tl...   \n",
       "2703777                     Manubrio Saltplus Hq (4 Pzas)    \n",
       "\n",
       "                   category  split  \\\n",
       "4124160       NETWORK_CARDS  train   \n",
       "2703777  BICYCLE_HANDLEBARS  train   \n",
       "\n",
       "                                     tokenized_title  \\\n",
       "4124160  [red, usb, link, usb, wireles, wnn, tlinfo]   \n",
       "2703777                   [manubrio, saltplus, pzas]   \n",
       "\n",
       "                                            data  target  n_labels     size  \n",
       "4124160  [749, 47, 479, 47, 21274, 10579, 23569]     402       632  4895280  \n",
       "2703777                          [5002, 1, 8865]     621       632  4895280  "
      ]
     },
     "execution_count": 15,
     "metadata": {},
     "output_type": "execute_result"
    }
   ],
   "source": [
    "data_train.sample(2)"
   ]
  },
  {
   "cell_type": "code",
   "execution_count": 16,
   "id": "3c3da486-7aa4-4a68-b319-df288ff4fa02",
   "metadata": {},
   "outputs": [
    {
     "data": {
      "text/html": [
       "<div>\n",
       "<style scoped>\n",
       "    .dataframe tbody tr th:only-of-type {\n",
       "        vertical-align: middle;\n",
       "    }\n",
       "\n",
       "    .dataframe tbody tr th {\n",
       "        vertical-align: top;\n",
       "    }\n",
       "\n",
       "    .dataframe thead th {\n",
       "        text-align: right;\n",
       "    }\n",
       "</style>\n",
       "<table border=\"1\" class=\"dataframe\">\n",
       "  <thead>\n",
       "    <tr style=\"text-align: right;\">\n",
       "      <th></th>\n",
       "      <th>language</th>\n",
       "      <th>label_quality</th>\n",
       "      <th>title</th>\n",
       "      <th>category</th>\n",
       "      <th>split</th>\n",
       "      <th>tokenized_title</th>\n",
       "      <th>data</th>\n",
       "      <th>target</th>\n",
       "      <th>n_labels</th>\n",
       "      <th>size</th>\n",
       "    </tr>\n",
       "  </thead>\n",
       "  <tbody>\n",
       "    <tr>\n",
       "      <th>51579</th>\n",
       "      <td>spanish</td>\n",
       "      <td>reliable</td>\n",
       "      <td>Esmalte Poliuretanico Revesta 4400 (1, Azul Me...</td>\n",
       "      <td>LATEX_ENAMEL_AND_ACRYLIC_PAINTS</td>\n",
       "      <td>test</td>\n",
       "      <td>[esmalte, poliuretanico, revesta, azul, mediano]</td>\n",
       "      <td>[527, 11488, 37138, 1543, 5657]</td>\n",
       "      <td>124</td>\n",
       "      <td>632</td>\n",
       "      <td>63680</td>\n",
       "    </tr>\n",
       "    <tr>\n",
       "      <th>26165</th>\n",
       "      <td>spanish</td>\n",
       "      <td>reliable</td>\n",
       "      <td>Filtro Purificador De Agua Elimina Cloro Olor ...</td>\n",
       "      <td>WATER_PURIFIERS_FILTERS</td>\n",
       "      <td>test</td>\n",
       "      <td>[filtro, purificador, agua, elimina, cloro, ol...</td>\n",
       "      <td>[1575, 2410, 267, 5125, 14193, 4316, 4024, 11766]</td>\n",
       "      <td>259</td>\n",
       "      <td>632</td>\n",
       "      <td>63680</td>\n",
       "    </tr>\n",
       "  </tbody>\n",
       "</table>\n",
       "</div>"
      ],
      "text/plain": [
       "      language label_quality  \\\n",
       "51579  spanish      reliable   \n",
       "26165  spanish      reliable   \n",
       "\n",
       "                                                   title  \\\n",
       "51579  Esmalte Poliuretanico Revesta 4400 (1, Azul Me...   \n",
       "26165  Filtro Purificador De Agua Elimina Cloro Olor ...   \n",
       "\n",
       "                              category split  \\\n",
       "51579  LATEX_ENAMEL_AND_ACRYLIC_PAINTS  test   \n",
       "26165          WATER_PURIFIERS_FILTERS  test   \n",
       "\n",
       "                                         tokenized_title  \\\n",
       "51579   [esmalte, poliuretanico, revesta, azul, mediano]   \n",
       "26165  [filtro, purificador, agua, elimina, cloro, ol...   \n",
       "\n",
       "                                                    data  target  n_labels  \\\n",
       "51579                    [527, 11488, 37138, 1543, 5657]     124       632   \n",
       "26165  [1575, 2410, 267, 5125, 14193, 4316, 4024, 11766]     259       632   \n",
       "\n",
       "        size  \n",
       "51579  63680  \n",
       "26165  63680  "
      ]
     },
     "execution_count": 16,
     "metadata": {},
     "output_type": "execute_result"
    }
   ],
   "source": [
    "data_test.sample(2)"
   ]
  },
  {
   "cell_type": "code",
   "execution_count": 17,
   "id": "b0206855-d1bc-45c6-9089-70219a9967af",
   "metadata": {},
   "outputs": [
    {
     "data": {
      "text/html": [
       "<div>\n",
       "<style scoped>\n",
       "    .dataframe tbody tr th:only-of-type {\n",
       "        vertical-align: middle;\n",
       "    }\n",
       "\n",
       "    .dataframe tbody tr th {\n",
       "        vertical-align: top;\n",
       "    }\n",
       "\n",
       "    .dataframe thead th {\n",
       "        text-align: right;\n",
       "    }\n",
       "</style>\n",
       "<table border=\"1\" class=\"dataframe\">\n",
       "  <thead>\n",
       "    <tr style=\"text-align: right;\">\n",
       "      <th></th>\n",
       "      <th>language</th>\n",
       "      <th>label_quality</th>\n",
       "      <th>title</th>\n",
       "      <th>category</th>\n",
       "      <th>split</th>\n",
       "      <th>tokenized_title</th>\n",
       "      <th>data</th>\n",
       "      <th>target</th>\n",
       "      <th>n_labels</th>\n",
       "      <th>size</th>\n",
       "    </tr>\n",
       "  </thead>\n",
       "  <tbody>\n",
       "    <tr>\n",
       "      <th>811863</th>\n",
       "      <td>spanish</td>\n",
       "      <td>unreliable</td>\n",
       "      <td>Aqua Mix Humo Ceramica 33x33 1ra Scop</td>\n",
       "      <td>CERAMIC_TILES</td>\n",
       "      <td>validation</td>\n",
       "      <td>[aqua, mix, humo, ceramica, scop]</td>\n",
       "      <td>[6456, 11114, 8206, 1406, 13893]</td>\n",
       "      <td>67</td>\n",
       "      <td>632</td>\n",
       "      <td>1223820</td>\n",
       "    </tr>\n",
       "    <tr>\n",
       "      <th>881352</th>\n",
       "      <td>spanish</td>\n",
       "      <td>unreliable</td>\n",
       "      <td>Equipo De Electrodos Portatil Digital + Envio ...</td>\n",
       "      <td>ELECTRONIC_MUSCLE_STIMULATORS</td>\n",
       "      <td>validation</td>\n",
       "      <td>[equipo, electrodos, portatil, digital, envio,...</td>\n",
       "      <td>[586, 292, 1033, 239, 211, 1429, 35611]</td>\n",
       "      <td>62</td>\n",
       "      <td>632</td>\n",
       "      <td>1223820</td>\n",
       "    </tr>\n",
       "  </tbody>\n",
       "</table>\n",
       "</div>"
      ],
      "text/plain": [
       "       language label_quality  \\\n",
       "811863  spanish    unreliable   \n",
       "881352  spanish    unreliable   \n",
       "\n",
       "                                                    title  \\\n",
       "811863              Aqua Mix Humo Ceramica 33x33 1ra Scop   \n",
       "881352  Equipo De Electrodos Portatil Digital + Envio ...   \n",
       "\n",
       "                             category       split  \\\n",
       "811863                  CERAMIC_TILES  validation   \n",
       "881352  ELECTRONIC_MUSCLE_STIMULATORS  validation   \n",
       "\n",
       "                                          tokenized_title  \\\n",
       "811863                  [aqua, mix, humo, ceramica, scop]   \n",
       "881352  [equipo, electrodos, portatil, digital, envio,...   \n",
       "\n",
       "                                           data  target  n_labels     size  \n",
       "811863         [6456, 11114, 8206, 1406, 13893]      67       632  1223820  \n",
       "881352  [586, 292, 1033, 239, 211, 1429, 35611]      62       632  1223820  "
      ]
     },
     "execution_count": 17,
     "metadata": {},
     "output_type": "execute_result"
    }
   ],
   "source": [
    "data_valid.sample(2)"
   ]
  },
  {
   "cell_type": "code",
   "execution_count": 8,
   "id": "d4e978df-20f8-4a0c-9e1c-28b71b2625a4",
   "metadata": {},
   "outputs": [
    {
     "data": {
      "text/plain": [
       "language           0\n",
       "label_quality      0\n",
       "title              0\n",
       "category           0\n",
       "split              0\n",
       "tokenized_title    0\n",
       "data               0\n",
       "target             0\n",
       "n_labels           0\n",
       "size               0\n",
       "dtype: int64"
      ]
     },
     "execution_count": 8,
     "metadata": {},
     "output_type": "execute_result"
    }
   ],
   "source": [
    "missing_values = data_train.isnull().sum()\n",
    "missing_values"
   ]
  },
  {
   "cell_type": "code",
   "execution_count": 22,
   "id": "5e8f36d6-05a0-4013-95e3-cfe4f25521ce",
   "metadata": {},
   "outputs": [
    {
     "data": {
      "text/plain": [
       "BOOKS                            15208\n",
       "ACTION_FIGURES                   14746\n",
       "MAGAZINES                        14465\n",
       "DIECAST_VEHICLES                 14338\n",
       "FOOTBALL_SHIRTS                  14338\n",
       "                                 ...  \n",
       "COIL_BINDING_MACHINES              714\n",
       "TANDEM_CHAIRS                      687\n",
       "INDUSTRIAL_ICE_CREAM_MACHINES      550\n",
       "SCREEN_PRINTING_FRAMES             386\n",
       "MOTORCYCLE_EXHAUSTS                220\n",
       "Name: category, Length: 632, dtype: int64"
      ]
     },
     "execution_count": 22,
     "metadata": {},
     "output_type": "execute_result"
    }
   ],
   "source": [
    "data_train['category'].value_counts()"
   ]
  },
  {
   "cell_type": "markdown",
   "id": "bb3f03cb-7e43-4cff-9e1d-ec6a6a1a6e8f",
   "metadata": {},
   "source": [
    "## EJERCICIO ##"
   ]
  },
  {
   "cell_type": "markdown",
   "id": "65d6eb25-9163-4f24-afaa-0f6dd01bf458",
   "metadata": {},
   "source": [
    "Implementar una red neuronal que asigne una categoría dado un título. Para este práctico se puede usar cualquier tipo de red neuronal. Les que hagan solo la primera mitad de la materia, implementarán un MLP. Quienes cursan la materia completa, deberían implementar algo más complejo, usando CNNs, RNNs o Transformers."
   ]
  },
  {
   "cell_type": "markdown",
   "id": "412bbb3e-d6b9-45ff-b909-223759bae86e",
   "metadata": {},
   "source": [
    "Algunas consideraciones a tener en cuenta para estructurar el trabajo:\n",
    "\n",
    "  1. Hacer un preprocesamiento de los datos (¿Cómo vamos a representar los datos de entrada y las categorías?).\n",
    "  2. Tener un manejador del dataset (alguna clase o función que nos divida los datos en batches).\n",
    "  3. Crear una clase para el modelo que se pueda instanciar con diferentes hiperparámetros\n",
    "  4. Hacer logs de entrenamiento (reportar tiempo transcurrido, iteraciones/s, loss, accuracy, etc.). Usar MLFlow.\n",
    "  5. Hacer un gráfico de la función de loss a lo largo de las epochs. MLFlow también puede generar la gráfica.\n",
    "  6. Reportar performance en el conjunto de test con el mejor modelo entrenado. La métrica para reportar será balanced accuracy ([Macro-recall](https://peltarion.com/knowledge-center/documentation/evaluation-view/classification-loss-metrics/macro-recall)).\n",
    "\n",
    "\n",
    "  Adicionalmente, se pide un reporte de los experimentos y los procesos que se llevaron a cabo (en el README.md de su repositorio correspondiente). No se evaluará la performance de los modelos, sino el proceso de tomar el problema e implementar una solución con aprendizaje profundo."
   ]
  },
  {
   "cell_type": "code",
   "execution_count": null,
   "id": "a15aca72-b484-4ce1-a50a-70177f9f4aa5",
   "metadata": {},
   "outputs": [],
   "source": []
  }
 ],
 "metadata": {
  "kernelspec": {
   "display_name": "Python 3 (ipykernel)",
   "language": "python",
   "name": "python3"
  },
  "language_info": {
   "codemirror_mode": {
    "name": "ipython",
    "version": 3
   },
   "file_extension": ".py",
   "mimetype": "text/x-python",
   "name": "python",
   "nbconvert_exporter": "python",
   "pygments_lexer": "ipython3",
   "version": "3.7.6"
  }
 },
 "nbformat": 4,
 "nbformat_minor": 5
}
